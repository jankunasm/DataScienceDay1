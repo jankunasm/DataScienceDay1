{
 "cells": [
  {
   "cell_type": "markdown",
   "metadata": {},
   "source": [
    "# Exercises"
   ]
  },
  {
   "cell_type": "markdown",
   "metadata": {},
   "source": [
    "### #1 - Calculate the BMI (body mass index) on the two lists below using NDArrays..."
   ]
  },
  {
   "cell_type": "code",
   "execution_count": 3,
   "metadata": {},
   "outputs": [
    {
     "name": "stdout",
     "output_type": "stream",
     "text": [
      "[16.86620458 17.87755102 18.82562984 19.71450617 20.54794521 21.32943755\n",
      " 22.06222222]\n"
     ]
    }
   ],
   "source": [
    "import numpy as np\n",
    "# formula = weight / (height**2) * 730\n",
    "height = [69, 70, 71, 72, 73, 74, 75]\n",
    "weight = [110, 120, 130, 140, 150, 160, 170]\n",
    "\n",
    "# OUTPUT: [16.86620458 17.87755102 18.82562984 19.71450617 20.54794521 21.32943755\n",
    "# 22.06222222]\n",
    "\n",
    "height1 = np.array(height)\n",
    "weight1 = np.array(weight)\n",
    "\n",
    "print(weight1 / (height1**2) * 730)\n"
   ]
  },
  {
   "cell_type": "markdown",
   "metadata": {},
   "source": [
    "### #2 - Create a function that will take in two parameters and will create a random matrix based off of those parameters. Extra: Have additional parameters taken in that allow the user to choose the shape and data type of the matrix."
   ]
  },
  {
   "cell_type": "code",
   "execution_count": 6,
   "metadata": {},
   "outputs": [
    {
     "data": {
      "text/plain": [
       "array([[1, 6, 0, 2, 0],\n",
       "       [1, 2, 8, 6, 9],\n",
       "       [0, 6, 2, 9, 5],\n",
       "       [7, 6, 9, 4, 8],\n",
       "       [0, 3, 9, 4, 9]])"
      ]
     },
     "execution_count": 6,
     "metadata": {},
     "output_type": "execute_result"
    }
   ],
   "source": [
    "\"\"\"\n",
    "Example Result\n",
    "array([[14.21633515,  7.98846653,  9.64140715],\n",
    "       [ 6.30982234,  9.96414331,  8.43153688],\n",
    "       [14.73102068, 11.76072894, 14.23356121]])\n",
    "\"\"\"\n",
    "# def makeMatrix(low,high,shape,data_type = float): -- Example\n",
    "\n",
    "def makeMatrix(ran, row, col):\n",
    "    array = np.random.randint(ran, size=(row,col))\n",
    "    return array\n",
    "\n",
    "makeMatrix(10, 5, 5)\n",
    "    "
   ]
  },
  {
   "cell_type": "markdown",
   "metadata": {},
   "source": [
    "### #3 - Extra: Open and load the data in the two text files that have the Boston Red Sox hitting data for the past seasons. Compare the difference in the two years by putting the data into an NDArray and running a differencial operation on it. The column to look for will be SLG.\n",
    "\n",
    "Your output should display which year (either 2017 or 2018) was a better year based on SLG"
   ]
  },
  {
   "cell_type": "code",
   "execution_count": 15,
   "metadata": {},
   "outputs": [],
   "source": [
    "import csv\n",
    "import numpy as np\n",
    "import statistics\n",
    "\n",
    "#Test to make sure you have the correct data\n",
    "\n",
    "# def open_csv(filename, d = ','):\n",
    "#     data = []\n",
    "    \n",
    "#     with open(filename, encoding = 'utf-8') as hw_data:\n",
    "#         hw_info = csv.reader(hw_data, delimiter = d)\n",
    "        \n",
    "#         for row in hw_info:\n",
    "#             data.append(row)\n",
    "#     return data\n",
    "\n",
    "# csv_data = open_csv('../files/redsox_2017_hitting.txt')\n",
    "# csv_data2 = open_csv('../files/redsox_2018_hitting.txt')\n",
    "# print(csv_data[1:5])\n",
    "# print(csv_data2[1:5])\n",
    "\n",
    "# def load_data(filename, d = ','):\n",
    "#     data = np.genfromtxt(filename, delimiter = d, skip_header = 1,\n",
    "#                       usecols = np.arange(0, 24), invalid_raise = False,\n",
    "#                       names = FIELDS, dtype = DATATYPES)\n",
    "#     return data\n",
    "\n",
    "\n",
    "# def load_data(filename, d = ','):\n",
    "#     data = np.genfromtxt(filename, delimiter = d, skip_header = 1, \n",
    "#                         usecols = np.arange(0,24), invalid_raise = False,\n",
    "#                         names = FIELDS, dtype = DATATYPES)\n",
    "#     return data\n",
    "\n",
    "\n",
    "# rs2017 = load_data('../files/redsox_2017_hitting.txt')\n",
    "# rs2018 = load_data('../files/redsox_2018_hitting.txt')\n",
    "\n",
    "# all_slg1 = bs2017['SLG']\n",
    "# all_slg2 = bs2018['SLG']\n",
    "\n",
    "# print(all_slg1)\n",
    "\n",
    "# def load_data(filename, d = ','):\n",
    "#     data = np.genfromtxt(filename, delimiter = d, skip_header = 1, \n",
    "#                         usecols = np.arange(0,24), invalid_raise = False,\n",
    "#                         names = FIELDS, dtype = DATATYPES)\n",
    "#     return data\n"
   ]
  },
  {
   "cell_type": "code",
   "execution_count": 18,
   "metadata": {},
   "outputs": [
    {
     "name": "stdout",
     "output_type": "stream",
     "text": [
      "0.39334783\n",
      "0.38750002\n"
     ]
    }
   ],
   "source": [
    "import statistics\n",
    "\"\"\"\n",
    "Example Result - Not the actual result\n",
    "Boston 18 had more SLG in 2018\n",
    "[0.404 0.443 0.392 0.403 0.482 0.424 0.402 0.459 0.429 0.354 0.387 0.333\n",
    " 0.539 0.243 0.262 0.354 0.342 0.339 0.328 0.306 0.222 0.2   1.   ]\n",
    "\"\"\"\n",
    "\n",
    "FIELDS = ['Rk', 'Pos', 'Name', 'Age', 'G', 'PA', 'AB', 'R', 'H', '2B', '3B', 'HR', 'RBI', 'SB', 'CS', \n",
    "          'BB', 'SO', 'BA', 'OBP', 'SLG', 'OPS', 'OPS+', 'TB', 'GDP', 'HBP', 'SH', 'SF', 'IBB']\n",
    "\n",
    "DATATYPES = [('rk', 'i'), ('pos', '|S25'), ('name', '|S25'), ('age', 'i'), ('g', 'i'), ('pa', 'i'), ('ab', 'i'),\n",
    "                ('r', 'i'), ('h', 'i'), ('2b', 'i'), ('3b', 'i'), ('hr', 'i'), ('rbi', 'i'), ('sb', 'i'), ('cs', 'i'),\n",
    "                ('bb', 'i'), ('so', 'i'), ('ba', 'f'), ('obp', 'f'), ('slg', 'f'), ('ops', 'f'), ('opsp', 'i'),\n",
    "                ('tb', 'i'), ('gdp', 'i'), ('hbp', 'i'), ('sh', 'i'), ('sf', 'i'), ('ibb', 'i')]\n",
    "\n",
    "#Use this function to actually open the data inside of a NDArray\n",
    "\n",
    "\n",
    "def load_data(filename, d = ','):\n",
    "    data = np.genfromtxt(filename, delimiter = d, skip_header = 1, \n",
    "                        usecols = np.arange(0,24), invalid_raise = False,\n",
    "                        names = FIELDS, dtype = DATATYPES)\n",
    "    return data\n",
    "\n",
    "\n",
    "rs2017 = load_data('../files/redsox_2017_hitting.txt')\n",
    "rs2018 = load_data('../files/redsox_2018_hitting.txt')\n",
    "\n",
    "all_slg1 = rs2017['SLG']\n",
    "all_slg2 = rs2018['SLG']\n",
    "\n",
    "slger1 = np.array(all_slg1)\n",
    "slger2 = np.array(all_slg2)\n",
    "\n",
    "final1 = statistics.mean(slger1)\n",
    "final2 = statistics.mean(slger2)\n",
    "\n",
    "print(final1)\n",
    "print(final2)\n",
    "\n",
    "#Red Sox in 2017 had a higher average SLG"
   ]
  },
  {
   "cell_type": "code",
   "execution_count": null,
   "metadata": {},
   "outputs": [],
   "source": []
  }
 ],
 "metadata": {
  "kernelspec": {
   "display_name": "Python 3",
   "language": "python",
   "name": "python3"
  },
  "language_info": {
   "codemirror_mode": {
    "name": "ipython",
    "version": 3
   },
   "file_extension": ".py",
   "mimetype": "text/x-python",
   "name": "python",
   "nbconvert_exporter": "python",
   "pygments_lexer": "ipython3",
   "version": "3.8.8"
  }
 },
 "nbformat": 4,
 "nbformat_minor": 2
}
